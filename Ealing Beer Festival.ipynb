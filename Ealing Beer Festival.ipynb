{
 "cells": [
  {
   "cell_type": "code",
   "execution_count": null,
   "metadata": {
    "collapsed": true
   },
   "outputs": [],
   "source": [
    "# Read the PDF\n",
    "import textract\n",
    "beers_pdf = textract.process('RealAle2017.pdf')"
   ]
  },
  {
   "cell_type": "code",
   "execution_count": null,
   "metadata": {
    "collapsed": true
   },
   "outputs": [],
   "source": [
    "# Process raw text \n",
    "import string\n",
    "import re\n",
    "\n",
    "beers_pdf_lines = string.split(beers_pdf, '\\n')\n",
    "\n",
    "# If line starts with at least two Capital letters -> Brewery\n",
    "# Example: 'ALLENDALE - Allendale, Northumberland'\n",
    "# Then, every line with a percentage at the end -> beer\n",
    "# Example:  'Wagtail Best Bitter - 3.8%'\n",
    "brewery_pattern = re.compile('^[A-Z]{2}')\n",
    "beer_pattern = re.compile(\"%$\")\n",
    "\n",
    "beers_list = []\n",
    "\n",
    "for line in beers_pdf_lines:\n",
    "\n",
    "    if brewery_pattern.search(line) and not beer_pattern.search(line):  # re.match() replaced with re.search()\n",
    "        brewery_name = line.split(' -')[0]\n",
    "        #print brewery_name\n",
    "    \n",
    "    # Replace long dashes by short dashes \n",
    "    if beer_pattern.search(line):\n",
    "        if ('\\xe2\\x80\\x93') in line:\n",
    "            line = line.replace('\\xe2\\x80\\x93', \"-\")\n",
    "        if ('\\x0c') in line:\n",
    "            line = line.replace('\\x0c','')\n",
    "\n",
    "        # Name of the beer before the alcohol percentage\n",
    "        beer_name = line.split(' -')[0]\n",
    "        #print beer_name\n",
    "            \n",
    "        # Add beer to list as dictionary\n",
    "        beers_list.append({'brewery': brewery_name, 'name': beer_name})\n",
    "            \n",
    "beers_list"
   ]
  },
  {
   "cell_type": "code",
   "execution_count": null,
   "metadata": {
    "collapsed": true
   },
   "outputs": [],
   "source": [
    "print \"Number of beers \" + str(len(beers_list))"
   ]
  },
  {
   "cell_type": "code",
   "execution_count": null,
   "metadata": {
    "collapsed": true
   },
   "outputs": [],
   "source": [
    "# Search in google for the beers by name: Brewery + beer_name\n",
    "from google import search\n",
    "\n",
    "beer_counter = 1\n",
    "for beer in beers_list:\n",
    "    searchable_name = beer['brewery'] + ' ' + beer['name']\n",
    "    print '[' + str(beer_counter) + '] Searching for ' + searchable_name\n",
    "    beer_counter = beer_counter + 1 \n",
    "\n",
    "    # Search in google for the beer url in RateBeer\n",
    "    ratebeer_pattern = re.compile(\"ratebeer.com\")\n",
    "    beer_url = \"\"\n",
    "    for url in search(searchable_name, stop=3):\n",
    "        if ratebeer_pattern.search(url):\n",
    "            beer_url = url\n",
    "            break\n",
    "    \n",
    "    beer.update({'url' : beer_url})\n",
    "    \n",
    "beers_list"
   ]
  },
  {
   "cell_type": "code",
   "execution_count": null,
   "metadata": {
    "collapsed": true
   },
   "outputs": [],
   "source": [
    "import csv\n",
    "import sys\n",
    "\n",
    "# Save the list in a csv file to avoid looking for the urls again\n",
    "keys = beers_list[0].keys()\n",
    "print keys\n",
    "\n",
    "with open('beers_ealing_festival_2017_urls_only.csv', 'wb') as output_file:\n",
    "    dict_writer = csv.DictWriter(output_file, keys)\n",
    "    dict_writer.writeheader()\n",
    "    dict_writer.writerows(beers_list)"
   ]
  },
  {
   "cell_type": "code",
   "execution_count": null,
   "metadata": {
    "collapsed": true
   },
   "outputs": [],
   "source": [
    "# Read from csv (after manual update to fill some empty values)\n",
    "with open('beers_ealing_festival_2017_urls_only (updated).csv') as csvfile:\n",
    "    reader = csv.DictReader(csvfile)\n",
    "    beers_list = [row for row in reader]"
   ]
  },
  {
   "cell_type": "code",
   "execution_count": null,
   "metadata": {
    "collapsed": true
   },
   "outputs": [],
   "source": [
    "# Read rates and style from Ratebeer\n",
    "import requests\n",
    "from bs4 import BeautifulSoup\n",
    "\n",
    "#Example url='https://www.ratebeer.com/beer/allendale-pennine-pale/203829/'\n",
    "\n",
    "beer_counter = 1\n",
    "for beer in beers_list:\n",
    "    print '[' + str(beer_counter) + '] Checking beer ' + beer['name'] + ' at ' + beer['url']\n",
    "    beer_counter = beer_counter + 1\n",
    "    \n",
    "    # Initial values\n",
    "    overall_rate = 0\n",
    "    style_rate = 0\n",
    "    style = 'unknown'\n",
    "    \n",
    "    if beer['url'] is not '':\n",
    "        # Dump data from url\n",
    "        r = requests.get(beer['url'])\n",
    "        data = r.text\n",
    "\n",
    "        # Get rates and style\n",
    "        soup = BeautifulSoup(data)\n",
    "\n",
    "        overall_rate = soup.find(\"div\", {\"class\" : \"ratingValue\"})\n",
    "        if overall_rate is None:\n",
    "            print 'overall_rate not found'\n",
    "        else:\n",
    "            overall_rate = overall_rate.string\n",
    "\n",
    "        style_rate = soup.find(\"div\", {\"class\" : \"style-text\"})\n",
    "        if style_rate is None:\n",
    "            print 'style_rate not found'\n",
    "        else:\n",
    "            style_rate = style_rate.previous_sibling.previous_sibling\n",
    "\n",
    "        style = soup.find(\"span\", {\"id\" : \"styleTopFifty\"})\n",
    "        if style is None:\n",
    "            print 'style not found'\n",
    "        else:\n",
    "            style = style.previous_sibling.string\n",
    "\n",
    "    beer.update({'overall_rate' : overall_rate})\n",
    "    beer.update({'style_rate' : style_rate})\n",
    "    beer.update({'style' : style})"
   ]
  },
  {
   "cell_type": "code",
   "execution_count": null,
   "metadata": {
    "collapsed": true
   },
   "outputs": [],
   "source": [
    "# Encode certain styles or names\n",
    "# TODO: Fix the patch to be solid\n",
    "for beer in beers_list:\n",
    "    if beer['style'] is not None:\n",
    "        beer['style'] = beer['style'].encode('utf-8')\n",
    "        print beer['style']"
   ]
  },
  {
   "cell_type": "code",
   "execution_count": null,
   "metadata": {
    "collapsed": true
   },
   "outputs": [],
   "source": [
    "import csv\n",
    "import sys\n",
    "\n",
    "# Save the list in a csv file\n",
    "beers_list\n",
    "\n",
    "keys = beers_list[0].keys()\n",
    "print keys\n",
    "\n",
    "with open('beers_ealing_festival_2017.csv', 'wb') as output_file:\n",
    "    dict_writer = csv.DictWriter(output_file, keys)\n",
    "    dict_writer.writeheader()\n",
    "    dict_writer.writerows(beers_list)"
   ]
  }
 ],
 "metadata": {
  "anaconda-cloud": {},
  "kernelspec": {
   "display_name": "Python [default]",
   "language": "python",
   "name": "python2"
  },
  "language_info": {
   "codemirror_mode": {
    "name": "ipython",
    "version": 2
   },
   "file_extension": ".py",
   "mimetype": "text/x-python",
   "name": "python",
   "nbconvert_exporter": "python",
   "pygments_lexer": "ipython2",
   "version": "2.7.13"
  }
 },
 "nbformat": 4,
 "nbformat_minor": 2
}
